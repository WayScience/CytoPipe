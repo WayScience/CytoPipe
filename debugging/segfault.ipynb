{
 "cells": [
  {
   "cell_type": "code",
   "execution_count": 1,
   "metadata": {},
   "outputs": [],
   "source": [
    "import os\n",
    "import pandas as pd\n",
    "from pycytominer.cyto_utils.cells import SingleCells"
   ]
  },
  {
   "cell_type": "code",
   "execution_count": 2,
   "metadata": {},
   "outputs": [],
   "source": [
    "# inputs\n",
    "sql_file = \"../data/SQ00014613.sqlite\"\n",
    "metadata_dir = \"../data/metadata/\"\n",
    "barcode_platemap = \"../data/barcode_platemap.csv\""
   ]
  },
  {
   "cell_type": "code",
   "execution_count": null,
   "metadata": {},
   "outputs": [],
   "source": [
    "# Loading appropriate platemaps with given plate data\n",
    "plate = os.path.basename(sql_file).rsplit(\".\", 1)\n",
    "barcode_platemap_df = pd.read_csv(barcode_platemap)\n",
    "platemap = barcode_platemap_df.query(\n",
    "    \"Assay_Plate_Barcode == @plate\"\n",
    ").Plate_Map_Name.values[0]\n",
    "platemap_file = os.path.join(metadata_dir, \"platemap\", \"{}.csv\".format(platemap))\n",
    "platemap_df = pd.read_csv(platemap_file)\n",
    "platemap_df"
   ]
  },
  {
   "cell_type": "code",
   "execution_count": null,
   "metadata": {},
   "outputs": [],
   "source": [
    "# TODO: generate a configuration file that contains the default parameters\n",
    "# -- Configurations will be in the snakefile under the \"param:\" rule attribute\n",
    "sqlite_file = \"sqlite:///{}\".format(sql_file)\n",
    "strata = [\"Image_Metadata_Plate\", \"Image_Metadata_Well\"]\n",
    "image_cols = [\"TableNumber\", \"ImageNumber\"]\n",
    "single_cell_profile = SingleCells(\n",
    "    sqlite_file, strata=strata, image_cols=image_cols, fields_of_view_feature=\"Image_Metadata_Well\"\n",
    ")"
   ]
  },
  {
   "cell_type": "code",
   "execution_count": null,
   "metadata": {},
   "outputs": [],
   "source": [
    "print(\"Counting cells within each well\")\n",
    "cell_count_outfile = \"cellcount.csv\"\n",
    "cell_count_df = single_cell_profile.count_cells()\n",
    "\n",
    "print(\"Saving cell counts in: {}\".format(cell_count_outfile))\n",
    "cell_count_df = cell_count_df.merge(\n",
    "    platemap_df, left_on=\"Image_Metadata_Well\", right_on=\"well_position\"\n",
    ").drop([\"WellRow\", \"WellCol\", \"well_position\"], axis=\"columns\")\n",
    "cell_count_df.to_csv(cell_count_outfile, sep=\"\\t\", index=False) "
   ]
  },
  {
   "cell_type": "code",
   "execution_count": null,
   "metadata": {},
   "outputs": [],
   "source": [
    "aggregate_outfile = \"./test.csv.gz\"\n",
    "ap = single_cell_profile.aggregate_profiles(output_file=aggregate_outfile, compression_options=\"gzip\")"
   ]
  },
  {
   "cell_type": "code",
   "execution_count": null,
   "metadata": {},
   "outputs": [],
   "source": [
    "import pandas as pd"
   ]
  },
  {
   "cell_type": "code",
   "execution_count": null,
   "metadata": {},
   "outputs": [],
   "source": [
    "df = pd.read_csv(\"./results/preprocessing/SQ00014613.aggregate.csv.gz\")\n",
    "df2 = pd.read_csv(\"./data/barcode_platemap.csv\")"
   ]
  },
  {
   "cell_type": "code",
   "execution_count": null,
   "metadata": {},
   "outputs": [],
   "source": [
    "df.columns.values.tolist()"
   ]
  },
  {
   "cell_type": "code",
   "execution_count": null,
   "metadata": {},
   "outputs": [],
   "source": [
    "df2.columns.tolist()"
   ]
  },
  {
   "cell_type": "code",
   "execution_count": 1,
   "metadata": {},
   "outputs": [],
   "source": [
    "from pycytominer.annotate import annotate\n",
    "from pycytominer.normalize import normalize"
   ]
  },
  {
   "cell_type": "code",
   "execution_count": 2,
   "metadata": {},
   "outputs": [],
   "source": [
    "aggregated_profiles = \"./results/preprocessing/SQ00014613.aggregate.csv.gz\"\n",
    "annotated_outfile = \"./results/preprocessing/SQ00014613.annotated.csv.gz\"\n",
    "platemap_df = \"./data/barcode_platemap.csv\"\n",
    "\n",
    "# this needs to be in configuration files\n",
    "annotate(\n",
    "    profiles=aggregated_profiles,\n",
    "    platemap=platemap_df,\n",
    "    # NOTE: Metadata_well_position was not in the dataframe\n",
    "    join_on=[\"Metadata_Assay_Plate_Barcode\", \"Image_Metadata_Plate\"],\n",
    "    output_file=annotated_outfile,\n",
    "    compression_options=\"gzip\",\n",
    ")"
   ]
  },
  {
   "cell_type": "code",
   "execution_count": 4,
   "metadata": {},
   "outputs": [],
   "source": [
    "# Normalizing annotated profiles\n",
    "annotated_file = \"./results/preprocessing/SQ00014613.annotated.csv.gz\"\n",
    "normalized_out = \"./SQ00014613.normalized.csv.gz\"\n",
    "\n",
    "# This needs to be in configuration files \n",
    "meta_features = [\n",
    "    \"Metadata_Plate\",\n",
    "    \"Metadata_Well\",\n",
    "    'Metadata_Plate_Map_Name',\n",
    "    'Metadata_Plate',\n",
    "    'Metadata_Well',\n",
    "    'Metadata_Object_Count',\n",
    "]\n",
    "\n",
    "normalize(\n",
    "    profiles=annotated_file,\n",
    "    features=\"infer\",\n",
    "    meta_features=meta_features,\n",
    "    samples=\"all\",\n",
    "    method=\"mad_robustize\",\n",
    "    output_file=normalized_out,\n",
    "    compression_options=\"gzip\",\n",
    ")\n"
   ]
  },
  {
   "cell_type": "code",
   "execution_count": null,
   "metadata": {},
   "outputs": [],
   "source": []
  }
 ],
 "metadata": {
  "interpreter": {
   "hash": "aa5b92d3cdbe3fa03b2526ca29967de979d74f07ef1459af7145191241aab4b5"
  },
  "kernelspec": {
   "display_name": "Python 3.9.12 ('pycytominer_beta')",
   "language": "python",
   "name": "python3"
  },
  "language_info": {
   "codemirror_mode": {
    "name": "ipython",
    "version": 3
   },
   "file_extension": ".py",
   "mimetype": "text/x-python",
   "name": "python",
   "nbconvert_exporter": "python",
   "pygments_lexer": "ipython3",
   "version": "3.9.12"
  },
  "orig_nbformat": 4
 },
 "nbformat": 4,
 "nbformat_minor": 2
}
